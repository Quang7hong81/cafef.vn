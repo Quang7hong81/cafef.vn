{
 "cells": [
  {
   "cell_type": "code",
   "execution_count": 2,
   "metadata": {},
   "outputs": [],
   "source": [
    "\n",
    "import pandas as pd\n",
    "import numpy as np\n",
    "\n",
    "#internet package\n",
    "\n",
    "import urllib3\n",
    "from bs4 import BeautifulSoup  \n",
    "http = urllib3.PoolManager()\n",
    "\n",
    "#functional package\n",
    "\n",
    "from tqdm import tqdm\n",
    "from tqdm import tnrange, tqdm_notebook"
   ]
  },
  {
   "cell_type": "code",
   "execution_count": 3,
   "metadata": {
    "scrolled": true
   },
   "outputs": [],
   "source": [
    "def get_new_data(symbol):\n",
    "    r = http.request('GET', 'http://s.cafef.vn/Ajax/Events_RelatedNews_New.aspx?symbol=' + str(symbol) + '&floorID=0&configID=0&PageIndex=1&PageSize=10000&Type=2')\n",
    "    soup = BeautifulSoup(r.data, \"html.parser\")\n",
    "    data = soup.find(\"ul\", {\"class\": \"News_Title_Link\"})\n",
    "    raw = data.find_all('li')\n",
    "    data_dicts = []\n",
    "    for row in raw:\n",
    "        row_dict = {}\n",
    "        row_dict['newsdate'] = row.span.text\n",
    "        row_dict['title'] = row.a.text\n",
    "        row_dict['url']  = \"http://s.cafef.vn/\" + str(row.a['href'])\n",
    "        row_dict['ticker'] = str(symbol)\n",
    "        data_dicts.append(row_dict)\n",
    "    return data_dicts"
   ]
  },
  {
   "cell_type": "code",
   "execution_count": 3,
   "metadata": {},
   "outputs": [],
   "source": [
    "# pd.DataFrame(get_new_data(\"VNM\")).head()"
   ]
  },
  {
   "cell_type": "code",
   "execution_count": 4,
   "metadata": {},
   "outputs": [],
   "source": [
    "public_company_list = pd.read_csv(\"public_company_list.csv\", skiprows = 1, usecols = range(1,5))\n",
    "public_company_list = public_company_list[public_company_list[\"SÀN\"] != \"OTC\"]\n",
    "public_company_list = public_company_list.dropna()"
   ]
  },
  {
   "cell_type": "code",
   "execution_count": 5,
   "metadata": {},
   "outputs": [
    {
     "data": {
      "text/plain": [
       "array(['A32', 'AAA', 'AAM', ..., 'YRC', 'YSC', 'YTC'], dtype=object)"
      ]
     },
     "execution_count": 5,
     "metadata": {},
     "output_type": "execute_result"
    }
   ],
   "source": [
    "public_company_list['MÃ CK'].values"
   ]
  },
  {
   "cell_type": "code",
   "execution_count": 6,
   "metadata": {},
   "outputs": [
    {
     "name": "stderr",
     "output_type": "stream",
     "text": [
      "100%|██████████| 1711/1711 [26:19<00:00,  2.64it/s] \n"
     ]
    }
   ],
   "source": [
    "all_datas = pd.DataFrame()\n",
    "for ticker in tqdm(public_company_list['MÃ CK'].values):\n",
    "\n",
    "    tickernews = pd.DataFrame(get_new_data(ticker))\n",
    "    all_datas = pd.concat([all_datas, tickernews], ignore_index=True)\n",
    "    \n",
    "all_datas.to_csv(\"news_url.csv\")\n",
    "    "
   ]
  },
  {
   "cell_type": "code",
   "execution_count": 13,
   "metadata": {},
   "outputs": [
    {
     "data": {
      "text/plain": [
       "<bound method DataFrame.info of Empty DataFrame\n",
       "Columns: []\n",
       "Index: []>"
      ]
     },
     "execution_count": 13,
     "metadata": {},
     "output_type": "execute_result"
    }
   ],
   "source": [
    "all_datas.info"
   ]
  }
 ],
 "metadata": {
  "kernelspec": {
   "display_name": "Python 3",
   "language": "python",
   "name": "python3"
  },
  "language_info": {
   "codemirror_mode": {
    "name": "ipython",
    "version": 3
   },
   "file_extension": ".py",
   "mimetype": "text/x-python",
   "name": "python",
   "nbconvert_exporter": "python",
   "pygments_lexer": "ipython3",
   "version": "3.6.5"
  }
 },
 "nbformat": 4,
 "nbformat_minor": 2
}
