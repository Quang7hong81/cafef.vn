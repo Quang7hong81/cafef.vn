{
 "cells": [
  {
   "cell_type": "code",
   "execution_count": null,
   "metadata": {},
   "outputs": [],
   "source": [
    "from bert_serving.server.helper import get_args_parser\n",
    "from bert_serving.server import BertServer\n",
    "args = get_args_parser().parse_args(['-model_dir', '/home/nguyenhieuec/disk/JVN/Finance programming/advProject/tradewithcafef/multi_cased_L-12_H-768_A-12/',\n",
    "                                     '-port', '5555',\n",
    "                                     '-port_out', '5556',\n",
    "                                     '-max_seq_len', 'NONE',\n",
    "                                     '-mask_cls_sep',\n",
    "                                     '-cpu'])\n",
    "server = BertServer(args)\n",
    "server.start()"
   ]
  },
  {
   "cell_type": "code",
   "execution_count": null,
   "metadata": {},
   "outputs": [],
   "source": []
  }
 ],
 "metadata": {
  "kernelspec": {
   "display_name": "Python 3",
   "language": "python",
   "name": "python3"
  },
  "language_info": {
   "codemirror_mode": {
    "name": "ipython",
    "version": 3
   },
   "file_extension": ".py",
   "mimetype": "text/x-python",
   "name": "python",
   "nbconvert_exporter": "python",
   "pygments_lexer": "ipython3",
   "version": "3.7.3"
  }
 },
 "nbformat": 4,
 "nbformat_minor": 2
}
